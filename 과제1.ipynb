{
  "nbformat": 4,
  "nbformat_minor": 0,
  "metadata": {
    "colab": {
      "provenance": []
    },
    "kernelspec": {
      "name": "python3",
      "display_name": "Python 3"
    },
    "language_info": {
      "name": "python"
    }
  },
  "cells": [
    {
      "cell_type": "markdown",
      "source": [
        "## 과제1_2020150434_노지예  "
      ],
      "metadata": {
        "id": "OEW6H4F4DQDu"
      }
    },
    {
      "cell_type": "markdown",
      "source": [
        "### Q1. 재테크    "
      ],
      "metadata": {
        "id": "NvCpmgZtDUUO"
      }
    },
    {
      "cell_type": "code",
      "execution_count": null,
      "metadata": {
        "colab": {
          "base_uri": "https://localhost:8080/"
        },
        "id": "rwmHaKZLDMh5",
        "outputId": "4c8d188c-57a8-4da7-d9de-2cc5bacbe22d"
      },
      "outputs": [
        {
          "output_type": "stream",
          "name": "stdout",
          "text": [
            "10000\n",
            "500000\n",
            "84\n"
          ]
        }
      ],
      "source": [
        "day=0\n",
        "a=int(input())\n",
        "b=int(input())\n",
        "\n",
        "while(a<b): # A잔고 < B잔고 동안 루프 \n",
        "    day=day+1\n",
        "    if(day%2==1): # day가 홀수일 때\n",
        "        a=a+10000\n",
        "    else:         # day가 짝수일 때\n",
        "        a=a*1.07\n",
        "\n",
        "    b=b*1.02\n",
        "\n",
        "print(day)"
      ]
    },
    {
      "cell_type": "markdown",
      "source": [
        "### Q2. 완전수  "
      ],
      "metadata": {
        "id": "un7L2EfhIKMR"
      }
    },
    {
      "cell_type": "code",
      "source": [
        "num=int(input())\n",
        "sum=0\n",
        "\n",
        "# 약수 찾기  \n",
        "for i in range(1,num): # 1~(num-1) 중에서\n",
        "    if(num%i==0):      # num을 나누어떨어뜨리는 i\n",
        "        sum=sum+i      \n",
        "\n",
        "if(sum==num):\n",
        "    print(\"YES\")\n",
        "else:\n",
        "    print(\"NO\")\n"
      ],
      "metadata": {
        "colab": {
          "base_uri": "https://localhost:8080/"
        },
        "id": "jGgJIZAmIJqb",
        "outputId": "aa42a7f4-79d6-4c9d-e652-0923667a5d40"
      },
      "execution_count": null,
      "outputs": [
        {
          "output_type": "stream",
          "name": "stdout",
          "text": [
            "155\n",
            "NO\n"
          ]
        }
      ]
    },
    {
      "cell_type": "markdown",
      "source": [
        "### Q3. 게임  \n"
      ],
      "metadata": {
        "id": "2cbDywIXJBrN"
      }
    },
    {
      "cell_type": "code",
      "source": [
        "keys=input().split() # 참가자\n",
        "values=input().split() # 지목 \n",
        "\n",
        "info={}\n",
        "for i in range(0,len(keys)):\n",
        "    info[keys[i]]=values[i]\n",
        "# {이서:원영, 원영:유진, 유진:이서} dictionary 생성\n",
        "\n",
        "start=input() # 첫번째 참가자 \n",
        "N=int(input()) \n",
        "\n",
        "\n",
        "i=1\n",
        "turn=info[start] # info[이서]==원영 이므로 turn=원영 \n",
        "while(i<N): \n",
        "    turn=info[turn] # 첫번째 루프에서 info[원영]==유진이므로 turn=유진\n",
        "    i=i+1 \n",
        "print(turn) # N-1번째 루프에서 N번째 지목 결과가 turn에 저장됨  \n"
      ],
      "metadata": {
        "colab": {
          "base_uri": "https://localhost:8080/"
        },
        "id": "cj-5XKgrWRdY",
        "outputId": "f38e97ad-8a9f-4c46-e73b-cfdc979bdfba"
      },
      "execution_count": null,
      "outputs": [
        {
          "output_type": "stream",
          "name": "stdout",
          "text": [
            "가을 원영 유진 이서\n",
            "원영 가을 이서 유진\n",
            "원영\n",
            "17\n",
            "가을\n"
          ]
        }
      ]
    },
    {
      "cell_type": "markdown",
      "source": [
        "### Q4 개교 기념"
      ],
      "metadata": {
        "id": "IMVoZuhPcTHP"
      }
    },
    {
      "cell_type": "code",
      "source": [
        "names=input().split()\n",
        "sang=[\"고\",\"려\",\"대\"]\n",
        "\n",
        "count=0\n",
        "for name in names:\n",
        "    if((name[-1] in sang) == True):\n",
        "    # name의 마지막 글자가 sang.list에 존재한다면  \n",
        "        count=count+1  \n",
        "\n",
        "print(count)"
      ],
      "metadata": {
        "colab": {
          "base_uri": "https://localhost:8080/"
        },
        "id": "qSjAQwODcc3c",
        "outputId": "c1bb687f-5d48-4e94-bb4e-44b865af159a"
      },
      "execution_count": null,
      "outputs": [
        {
          "output_type": "stream",
          "name": "stdout",
          "text": [
            "김고려 최고 박안암\n",
            "2\n"
          ]
        }
      ]
    },
    {
      "cell_type": "markdown",
      "source": [
        "## Q5. 유니크  "
      ],
      "metadata": {
        "id": "jvqmmlZ3dYlH"
      }
    },
    {
      "cell_type": "code",
      "source": [
        "word=input()\n",
        "length=len(word)\n",
        "\n",
        "for i in range(0,length): # word의 첫번째~마지막 글자에 대하여여\n",
        "    if(word[i] in word[0:i])==True: # (i+1)th 글자가 1~i번째에 존재하면 \n",
        "        print(\"NO\")                 # [i]          [0]~[i-1]\n",
        "        break \n",
        "    elif (word[i] in word[i+1:])==True: # (i+1)th 글자가 i+2~마지막에 존재하면 \n",
        "        print(\"NO\")                     # [i]          [i+1]~[length-1]\n",
        "        break\n",
        "else:\n",
        "    print(\"YES\")"
      ],
      "metadata": {
        "colab": {
          "base_uri": "https://localhost:8080/"
        },
        "id": "7F_89Qaodcro",
        "outputId": "a3f39488-2354-45b6-cd95-bbcdbddbf6be"
      },
      "execution_count": null,
      "outputs": [
        {
          "output_type": "stream",
          "name": "stdout",
          "text": [
            "pear\n",
            "YES\n"
          ]
        }
      ]
    }
  ]
}