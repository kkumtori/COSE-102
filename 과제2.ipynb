{
  "nbformat": 4,
  "nbformat_minor": 0,
  "metadata": {
    "colab": {
      "provenance": []
    },
    "kernelspec": {
      "name": "python3",
      "display_name": "Python 3"
    },
    "language_info": {
      "name": "python"
    }
  },
  "cells": [
    {
      "cell_type": "markdown",
      "source": [
        "# 과제2_2020150434_노지예  \n",
        "## Q1. 부럽지가 않어  "
      ],
      "metadata": {
        "id": "lTwjyCHSi5vF"
      }
    },
    {
      "cell_type": "code",
      "execution_count": null,
      "metadata": {
        "id": "CAQI7AnOi335"
      },
      "outputs": [],
      "source": [
        "!pip install selenium \n",
        "!apt-get update\n",
        "!apt install chromium-chromedriver"
      ]
    },
    {
      "cell_type": "code",
      "source": [
        "import time\n",
        "from selenium import webdriver \n",
        "from selenium.webdriver.common.by import By \n",
        "from bs4 import BeautifulSoup\n",
        "\n",
        "specific_options = webdriver.ChromeOptions()\n",
        "specific_options.add_argument('--headless') \n",
        "specific_options.add_argument('--no-sandbox') \n",
        "driver = webdriver.Chrome('chromedriver', options = specific_options)"
      ],
      "metadata": {
        "id": "JjEFLOQHkO0l"
      },
      "execution_count": null,
      "outputs": []
    },
    {
      "cell_type": "code",
      "source": [
        "driver.get('https://m.dhlottery.co.kr/gameResult.do?method=allWin')\n",
        "\n",
        "# 기간 입력 박스\n",
        "start_box=driver.find_element(By.NAME,'drwNoStart')\n",
        "end_box=driver.find_element(By.NAME,'drwNoEnd')\n",
        "# 조회 박스 \n",
        "show_btn=driver.find_element(By.XPATH,'//*[@id=\"searchBtn\"]/span')\n",
        "\n",
        "number=int(input())\n",
        "start_box.send_keys(number)\n",
        "end_box.send_keys(number)\n",
        "show_btn.click()\n",
        "\n",
        "soup=BeautifulSoup(driver.page_source,'html.parser')\n",
        "winner=soup.find_all('strong')\n",
        "\n",
        "int(winner[1].text.strip()[5:])"
      ],
      "metadata": {
        "colab": {
          "base_uri": "https://localhost:8080/"
        },
        "id": "mRth08bVkgsa",
        "outputId": "60ae2ebd-d2c9-48b1-949e-d126a25bb865"
      },
      "execution_count": null,
      "outputs": [
        {
          "name": "stdout",
          "output_type": "stream",
          "text": [
            "905\n"
          ]
        },
        {
          "output_type": "execute_result",
          "data": {
            "text/plain": [
              "7"
            ]
          },
          "metadata": {},
          "execution_count": 27
        }
      ]
    },
    {
      "cell_type": "markdown",
      "source": [
        "## Q2. 시청률의 제왕  "
      ],
      "metadata": {
        "id": "zgnEMXzyi5E-"
      }
    },
    {
      "cell_type": "code",
      "source": [
        "driver.get('https://www.nielsenkorea.co.kr/tv_terrestrial_day.asp?menu=Tit_1&sub_menu=1_1&area=01')\n",
        "year_box=driver.find_element(By.NAME,'sYear')\n",
        "month_box=driver.find_element(By.NAME,'sMonth')\n",
        "day_box=driver.find_element(By.NAME,'sDay')\n",
        "\n",
        "search_button=driver.find_element(By.XPATH,'//*[@id=\"sub_body\"]/table[1]/tbody/tr/td/form/table/tbody/tr/td[2]/img')\n",
        "\n",
        "\n",
        "year=input()+'년'\n",
        "month=input()+'월'\n",
        "if len(month)==2:\n",
        "    month='0'+month\n",
        "day=input()+'일'\n",
        "if len(day)==2:\n",
        "    day='0'+day\n",
        "\n",
        "\n",
        "year_box.send_keys(year)\n",
        "month_box.send_keys(month)\n",
        "day_box.send_keys(day)\n",
        "\n",
        "search_button.click()\n",
        "\n",
        "soup=BeautifulSoup(driver.page_source,'html.parser')\n",
        "programs=soup.find_all(class_='tb_txt')\n",
        "top3=programs[0:3]\n",
        "for element in top3:\n",
        "    print(element.text.strip())"
      ],
      "metadata": {
        "id": "pd-g5ukRq-Is",
        "colab": {
          "base_uri": "https://localhost:8080/"
        },
        "outputId": "8b9b29a7-9927-42ff-adb8-57ed55a5a43c"
      },
      "execution_count": null,
      "outputs": [
        {
          "output_type": "stream",
          "name": "stdout",
          "text": [
            "2022\n",
            "6\n",
            "1\n",
            "KBS9시뉴스\n",
            "아침마당\n",
            "인간극장\n"
          ]
        }
      ]
    },
    {
      "cell_type": "markdown",
      "source": [
        "## Q3. 종강  "
      ],
      "metadata": {
        "id": "YI3D6O8EjfW6"
      }
    },
    {
      "cell_type": "code",
      "source": [
        "import requests\n",
        "from bs4 import BeautifulSoup\n",
        "\n",
        "header_info={'User-Agent': 'Mozilla/5.0 (Windows NT 10.0; Win64; x64) AppleWebKit/537.36 (KHTML, like Gecko) Chrome/70.0.3538.102 Safari/537.36 Edge/18.19582'}\n",
        "\n",
        "year=input()\n",
        "month=input()\n",
        "if len(month)==1:\n",
        "    month='0'+month\n",
        "day=input()\n",
        "if len(day)==1:\n",
        "    day='0'+day\n",
        "\n",
        "url='https://movie.naver.com/movie/sdb/rank/rmovie.naver?sel=cur&date='+year+month+day\n",
        "\n",
        "page=requests.get(url,headers=header_info)\n",
        "page=page.text\n",
        "\n",
        "soup=BeautifulSoup(page,'html.parser')\n",
        "movies=soup.find_all(class_='tit5')\n",
        "\n",
        "print(movies[0].text.strip())\n"
      ],
      "metadata": {
        "id": "kWNBQyfNji3T",
        "colab": {
          "base_uri": "https://localhost:8080/"
        },
        "outputId": "d4250636-99c5-4b52-a7b1-7975058b92ad"
      },
      "execution_count": null,
      "outputs": [
        {
          "output_type": "stream",
          "name": "stdout",
          "text": [
            "2022\n",
            "6\n",
            "15\n",
            "범죄도시2\n"
          ]
        }
      ]
    },
    {
      "cell_type": "markdown",
      "source": [
        "## Q4. IQR  "
      ],
      "metadata": {
        "id": "SoogzUrkm17A"
      }
    },
    {
      "cell_type": "code",
      "source": [
        "import pandas as pd\n",
        "\n",
        "score=pd.read_csv('score.csv')\n",
        "q1=score['TotalScore'].quantile(0.25) # 1st quantile\n",
        "q3=score['TotalScore'].quantile(0.75) # 3rd quantile\n",
        "IQR=q3-q1\n",
        "\n",
        "LB=q1-1.5*IQR # Lower Bound\n",
        "UB=q3+1.5*IQR # Upper Bount\n",
        "\n",
        "for i in range(0,len(score)):\n",
        "    if (score['TotalScore'][i]<=LB):\n",
        "        print(score['StudentNumber'][i],'학생 할 수 있어요!')\n",
        "    elif (score['TotalScore'][i]>=UB):\n",
        "        print(score['StudentNumber'][i],'학생 대단합니다!')"
      ],
      "metadata": {
        "id": "br9dxHr7m4eH",
        "colab": {
          "base_uri": "https://localhost:8080/"
        },
        "outputId": "b52a4032-aef2-47cc-a655-4a1205c5bf4b"
      },
      "execution_count": null,
      "outputs": [
        {
          "output_type": "stream",
          "name": "stdout",
          "text": [
            "2021826381 학생 할 수 있어요!\n",
            "2017936402 학생 대단합니다!\n",
            "2019396026 학생 대단합니다!\n",
            "2021029260 학생 할 수 있어요!\n"
          ]
        }
      ]
    },
    {
      "cell_type": "markdown",
      "source": [
        "## Q5. 고등학교  "
      ],
      "metadata": {
        "id": "rJptuKJKuJHe"
      }
    },
    {
      "cell_type": "code",
      "source": [
        "!sudo apt-get install -y fonts-nanum \n",
        "!sudo fc-cache -fv\n",
        "!rm ~/.cache/matplotlib -rf"
      ],
      "metadata": {
        "id": "fIVWPHGVvdVH"
      },
      "execution_count": null,
      "outputs": []
    },
    {
      "cell_type": "code",
      "source": [
        "import matplotlib.pyplot as plt \n",
        "plt.rc('font', family='NanumBarunGothic')\n",
        "\n",
        "import pandas as pd\n",
        "import seaborn as sns"
      ],
      "metadata": {
        "id": "xA8V8DPAvqaK"
      },
      "execution_count": null,
      "outputs": []
    },
    {
      "cell_type": "code",
      "source": [
        "# 1) 노원구 특성화고의 8년간 취업률 변화를 꺾은선 그래프 형태로 시각화하시오.\n",
        "job=pd.read_excel('job.xlsx')\n",
        "job_nowon=job[job['자치구']=='노원구']\n",
        "\n",
        "job_nowon=job_nowon.set_index('기간',drop=True)\n",
        "\n",
        "job_nowon['취업률'].plot()\n",
        "plt.title('노원구 특성화고 취업률')\n",
        "plt.xlabel('기간(년)')\n",
        "plt.ylabel('취업률(%)')\n",
        "plt.show()"
      ],
      "metadata": {
        "colab": {
          "base_uri": "https://localhost:8080/",
          "height": 294
        },
        "id": "HIRHdpiOpttI",
        "outputId": "e3768bc3-27c2-46ed-a8ac-5c26b2bb6743"
      },
      "execution_count": null,
      "outputs": [
        {
          "output_type": "display_data",
          "data": {
            "text/plain": [
              "<Figure size 432x288 with 1 Axes>"
            ],
            "image/png": "[encoded data removed]"
          },
          "metadata": {
            "needs_background": "light"
          }
        }
      ]
    },
    {
      "cell_type": "code",
      "source": [
        "# 2) 2014년 기준, 용산구-서초구-강남구 특성화고의 취업자 수를 막대 그래프로 나타내시오.\n",
        "cond1=job['기간']==2014\n",
        "cond2=(job['자치구']=='용산구')|(job['자치구']=='서초구')|(job['자치구']=='강남구')\n",
        "job_new=job[cond1&cond2]\n",
        "job_new.index=[\"용산구\",\"서초구\",\"강남구\"]\n",
        "\n",
        "job_new['취업자 수'].plot(kind='bar',x='자치구')\n",
        "plt.title('용산-서초-강남 특성화고 취업자 수')\n",
        "plt.ylabel('취업자수(명)')\n",
        "plt.show()"
      ],
      "metadata": {
        "colab": {
          "base_uri": "https://localhost:8080/",
          "height": 297
        },
        "id": "ljJcsBd2wLHV",
        "outputId": "5057efca-c5d2-45f2-b04a-78d98cc4492d"
      },
      "execution_count": null,
      "outputs": [
        {
          "output_type": "display_data",
          "data": {
            "text/plain": [
              "<Figure size 432x288 with 1 Axes>"
            ],
            "image/png": "[encoded data removed]"
          },
          "metadata": {
            "needs_background": "light"
          }
        }
      ]
    },
    {
      "cell_type": "code",
      "source": [
        "# 3) 2017년 기준, 구 별 특성화고 졸업자 수와 취업자 수를 산점도로 나타내시오.\n",
        "\n",
        "job_2017=job[job['기간']==2017] # 서울시 전체 데이터 포함\n",
        "job_2017=job_2017.loc[145:,:] # 서울시 제거 \n",
        "\n",
        "job_2017.plot(kind='scatter',x='졸업자 수',y='취업자 수')\n",
        "plt.title('2017년 졸업자 수-취업자 수')"
      ],
      "metadata": {
        "colab": {
          "base_uri": "https://localhost:8080/",
          "height": 312
        },
        "id": "4J6WyB7WyH6K",
        "outputId": "0db47f74-c01c-4424-d34b-6e1deec01f5c"
      },
      "execution_count": null,
      "outputs": [
        {
          "output_type": "execute_result",
          "data": {
            "text/plain": [
              "Text(0.5, 1.0, '2017년 졸업자 수-취업자 수')"
            ]
          },
          "metadata": {},
          "execution_count": 4
        },
        {
          "output_type": "display_data",
          "data": {
            "text/plain": [
              "<Figure size 432x288 with 1 Axes>"
            ],
            "image/png": "[encoded data removed]"
          },
          "metadata": {
            "needs_background": "light"
          }
        }
      ]
    }
  ]
}